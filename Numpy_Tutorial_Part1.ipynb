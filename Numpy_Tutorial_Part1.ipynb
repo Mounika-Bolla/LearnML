{
  "nbformat": 4,
  "nbformat_minor": 0,
  "metadata": {
    "colab": {
      "provenance": [],
      "authorship_tag": "ABX9TyPGzzj4UfQISZ2a5h7b5fl6",
      "include_colab_link": true
    },
    "kernelspec": {
      "name": "python3",
      "display_name": "Python 3"
    },
    "language_info": {
      "name": "python"
    }
  },
  "cells": [
    {
      "cell_type": "markdown",
      "metadata": {
        "id": "view-in-github",
        "colab_type": "text"
      },
      "source": [
        "<a href=\"https://colab.research.google.com/github/Mounika-Bolla/LearnML/blob/main/Numpy_Tutorial_Part1.ipynb\" target=\"_parent\"><img src=\"https://colab.research.google.com/assets/colab-badge.svg\" alt=\"Open In Colab\"/></a>"
      ]
    },
    {
      "cell_type": "markdown",
      "source": [
        "NumPy is a Python library. NumPy stands for Numerical Python.\n",
        "\n",
        "\n",
        "- NumPy is used for working with arrays.\n"
      ],
      "metadata": {
        "id": "d_RxHf18Z0wU"
      }
    },
    {
      "cell_type": "code",
      "source": [
        "import numpy as np\n",
        "#Here numpy is imported under the name of np."
      ],
      "metadata": {
        "id": "TtJJFigjZu_7"
      },
      "execution_count": null,
      "outputs": []
    },
    {
      "cell_type": "code",
      "source": [
        "list = [2, 3, 4, 5]\n",
        "print(list)"
      ],
      "metadata": {
        "colab": {
          "base_uri": "https://localhost:8080/"
        },
        "id": "Ow4RpGPfZRzb",
        "outputId": "e284da39-7a4f-40f9-a163-1f15c3a37982"
      },
      "execution_count": null,
      "outputs": [
        {
          "output_type": "stream",
          "name": "stdout",
          "text": [
            "[2, 3, 4, 5]\n"
          ]
        }
      ]
    },
    {
      "cell_type": "markdown",
      "source": [
        "### **Python List**\n",
        "- Python List is used to store the one-dimensional array.\n",
        "\n",
        "### **Advantage of Numpy over Python list**\n",
        "- NumPy arrays can store Multi-Dimesional arrays.\n",
        "\n",
        "#**NumPy**\n",
        "\n",
        "- NumPy strives to deliver an array structure that exhibits a performance improvement of up to 50 times compared to conventional Python lists.\n",
        "- The array object in NumPy is called ndarray(n dimensional array).\n",
        "\n",
        "### **Why is NumPy Faster Than Lists?**\n",
        "\n",
        "- NumPy arrays are stored in a single, continuous memory location, unlike lists. This arrangement allows for efficient access and manipulation by processes, a concept known as \"locality of reference\" in computer science."
      ],
      "metadata": {
        "id": "OdXKCGASh2yw"
      }
    },
    {
      "cell_type": "markdown",
      "source": [
        "To create a NumPy ndarray object, we can use the `array()` function."
      ],
      "metadata": {
        "id": "WchbxN20eVNR"
      }
    },
    {
      "cell_type": "code",
      "source": [
        "array = np.array([1,2,3,5,6])\n",
        "print(array)\n",
        "\n",
        "print(type(array))\n",
        "# Here, the type() function gives the type of the object that is passed to it."
      ],
      "metadata": {
        "colab": {
          "base_uri": "https://localhost:8080/"
        },
        "id": "PINfqpypdz98",
        "outputId": "54502549-27ce-4a38-932f-85056090dc26"
      },
      "execution_count": null,
      "outputs": [
        {
          "output_type": "stream",
          "name": "stdout",
          "text": [
            "[1 2 3 5 6]\n",
            "<class 'numpy.ndarray'>\n"
          ]
        }
      ]
    },
    {
      "cell_type": "markdown",
      "source": [
        "To check the Version of the NumPy,"
      ],
      "metadata": {
        "id": "rrD4-fw3d_GG"
      }
    },
    {
      "cell_type": "code",
      "source": [
        "print(np.__version__)"
      ],
      "metadata": {
        "colab": {
          "base_uri": "https://localhost:8080/"
        },
        "id": "tS0KLu6beHu2",
        "outputId": "83081e70-faa0-4288-f697-9fd40c4be9a0"
      },
      "execution_count": null,
      "outputs": [
        {
          "output_type": "stream",
          "name": "stdout",
          "text": [
            "1.23.5\n"
          ]
        }
      ]
    },
    {
      "cell_type": "code",
      "source": [
        "# 0-D Array\n",
        "print(\"0-D Array\")\n",
        "array0 = np.array(23)\n",
        "print(array0, \"\\n\")\n",
        "\n",
        "# 1-D Array\n",
        "print(\"1-D Array\")\n",
        "array1 = np.array([1,2,3,4,5])\n",
        "print(array1,\"\\n\")\n",
        "\n",
        "# 2-D Array : These are often used to represent Matrices.\n",
        "print(\"2-D Array\")\n",
        "array2 = np.array([[1,2,3,4,5],[6,7,8,9,0]])\n",
        "print(array2, \"\\n\")\n",
        "\n",
        "# 3-D Array\n",
        "print(\"3-D Array\")\n",
        "array3 = np.array([[[1,2,3,4,5],[2,3,4,5,6],[2,4,5,7,9]]])\n",
        "print(array3)"
      ],
      "metadata": {
        "colab": {
          "base_uri": "https://localhost:8080/"
        },
        "id": "dDN63x5sfSdh",
        "outputId": "51c28d36-029c-4a24-9db9-09489affa5d8"
      },
      "execution_count": null,
      "outputs": [
        {
          "output_type": "stream",
          "name": "stdout",
          "text": [
            "0-D Array\n",
            "23 \n",
            "\n",
            "1-D Array\n",
            "[1 2 3 4 5] \n",
            "\n",
            "2-D Array\n",
            "[[1 2 3 4 5]\n",
            " [6 7 8 9 0]] \n",
            "\n",
            "3-D Array\n",
            "[[[1 2 3 4 5]\n",
            "  [2 3 4 5 6]\n",
            "  [2 4 5 7 9]]]\n"
          ]
        }
      ]
    },
    {
      "cell_type": "markdown",
      "source": [
        "### **Size**\n",
        "\n",
        "- Gives the number of elements in an array."
      ],
      "metadata": {
        "id": "CWDdZypVjtzF"
      }
    },
    {
      "cell_type": "code",
      "source": [
        "\n",
        "print(array0.size)\n",
        "print(array1.size)\n",
        "print(array2.size)\n",
        "print(array3.size)"
      ],
      "metadata": {
        "colab": {
          "base_uri": "https://localhost:8080/"
        },
        "id": "fcpCh-bHjiEc",
        "outputId": "cdfaec33-7e7c-420a-e570-2cd94b6842e9"
      },
      "execution_count": null,
      "outputs": [
        {
          "output_type": "stream",
          "name": "stdout",
          "text": [
            "1\n",
            "5\n",
            "10\n",
            "15\n"
          ]
        }
      ]
    },
    {
      "cell_type": "markdown",
      "source": [
        "### **Shape**\n",
        "\n",
        "- It gives the tuple of number of rows and colums.\n",
        "- (Rows, Colums)\n",
        "\n",
        "The shape of an array is the number of elements in each dimension."
      ],
      "metadata": {
        "id": "zcxhtK9uj8rB"
      }
    },
    {
      "cell_type": "code",
      "source": [
        "print(array0.shape)\n",
        "print(array1.shape)\n",
        "print(array2.shape)\n",
        "print(array3.shape)\n",
        "\n",
        "arr = np.array([1, 2, 3, 4], ndmin=5)\n",
        "print(arr)\n",
        "print('shape of array :', arr.shape)"
      ],
      "metadata": {
        "colab": {
          "base_uri": "https://localhost:8080/"
        },
        "id": "5VeYWoDSkXsS",
        "outputId": "0974d594-5ad6-4605-e165-2bd2f33927c1"
      },
      "execution_count": null,
      "outputs": [
        {
          "output_type": "stream",
          "name": "stdout",
          "text": [
            "()\n",
            "(5,)\n",
            "(2, 5)\n",
            "(1, 3, 5)\n",
            "[[[[[1 2 3 4]]]]]\n",
            "shape of array : (1, 1, 1, 1, 4)\n"
          ]
        }
      ]
    },
    {
      "cell_type": "markdown",
      "source": [
        "### **dtype**\n",
        "- It tells us the type of data present in an array."
      ],
      "metadata": {
        "id": "4-MaHAPHkrg_"
      }
    },
    {
      "cell_type": "code",
      "source": [
        "print(array0.dtype)\n",
        "print(array1.dtype)\n",
        "print(array2.dtype)\n",
        "print(array3.dtype)\n",
        "\n",
        "arr = np.array([2,34,6.7,4,5])\n",
        "print(arr)\n",
        "print(arr.dtype)"
      ],
      "metadata": {
        "colab": {
          "base_uri": "https://localhost:8080/"
        },
        "id": "IX16Q3DCk6ex",
        "outputId": "7632c89e-b19f-4a24-a0fe-7eca3b8216fc"
      },
      "execution_count": null,
      "outputs": [
        {
          "output_type": "stream",
          "name": "stdout",
          "text": [
            "int64\n",
            "int64\n",
            "int64\n",
            "int64\n",
            "[ 2.  34.   6.7  4.   5. ]\n",
            "float64\n"
          ]
        }
      ]
    },
    {
      "cell_type": "markdown",
      "source": [
        "### **Transpose**\n",
        "- It replaces the rows with columns and columns with rows."
      ],
      "metadata": {
        "id": "H9_yoaIAlfq-"
      }
    },
    {
      "cell_type": "code",
      "source": [
        "array3.transpose()"
      ],
      "metadata": {
        "colab": {
          "base_uri": "https://localhost:8080/"
        },
        "id": "HKPTn9AzlulZ",
        "outputId": "97ac35e0-b5c6-4732-8aac-a8d920a568a5"
      },
      "execution_count": null,
      "outputs": [
        {
          "output_type": "execute_result",
          "data": {
            "text/plain": [
              "array([[[1],\n",
              "        [2],\n",
              "        [2]],\n",
              "\n",
              "       [[2],\n",
              "        [3],\n",
              "        [4]],\n",
              "\n",
              "       [[3],\n",
              "        [4],\n",
              "        [5]],\n",
              "\n",
              "       [[4],\n",
              "        [5],\n",
              "        [7]],\n",
              "\n",
              "       [[5],\n",
              "        [6],\n",
              "        [9]]])"
            ]
          },
          "metadata": {},
          "execution_count": 9
        }
      ]
    },
    {
      "cell_type": "markdown",
      "source": [
        "### **To check Number of Dimensions**\n",
        "- We use `ndim` to returns an integer that tells us how many dimensions are in the array.\n",
        "\n",
        "### **Higher Dimensional Arrays**\n",
        "- When constructing an array, you have the option to specify the number of dimensions through the use of the ndmin parameter.\n"
      ],
      "metadata": {
        "id": "RV3DO15Cmx4O"
      }
    },
    {
      "cell_type": "code",
      "source": [
        "print(array0.ndim)\n",
        "print(array1.ndim)\n",
        "print(array2.ndim)\n",
        "print(array3.ndim)\n",
        "\n",
        "arr = np.array([1, 2, 3, 4, 5], ndmin=5)\n",
        "\n",
        "print(arr)\n",
        "print('Number of Dimensions :', arr.ndim)"
      ],
      "metadata": {
        "colab": {
          "base_uri": "https://localhost:8080/"
        },
        "id": "wmoxk7MknHrE",
        "outputId": "c1f74c6e-c515-4229-f123-b80bc693816c"
      },
      "execution_count": null,
      "outputs": [
        {
          "output_type": "stream",
          "name": "stdout",
          "text": [
            "0\n",
            "1\n",
            "2\n",
            "3\n",
            "[[[[[1 2 3 4 5]]]]]\n",
            "Number of Dimensions : 5\n"
          ]
        }
      ]
    },
    {
      "cell_type": "markdown",
      "source": [
        "## **Access Array Elements**\n",
        "- In arrays, accessing an element is done by using its index number, and in NumPy arrays, indexes begin with 0.\n",
        "\n",
        "## **Access 2-D Arrays**\n",
        "- To access elements from 2-D arrays, just use two numbers separated by a comma – the first is the row, and the second is the column, like finding something in a table using rows and columns.\n",
        "\n",
        "## **Access 3-D Arrays**\n",
        "\n",
        "- To access elements from 3-D arrays we can use comma separated integers representing the dimensions and the index of the element."
      ],
      "metadata": {
        "id": "AGxFTGzFnm_Q"
      }
    },
    {
      "cell_type": "code",
      "source": [
        "sum = 0\n",
        "arr = np.array([1,2,3,4,5,6])\n",
        "for i in range(len(arr)):\n",
        "  sum = sum + arr[i]\n",
        "print(sum,\"\\n\")\n",
        "\n",
        "arr = np.array([[1,2,3,4,5], [6,7,8,9,10]])\n",
        "print('4th element on 2nd row: ', arr[1, 3],\"\\n\")\n",
        "\n",
        "arr1 = np.array([[[1, 2, 3], [4, 5, 6]], [[7, 8, 9], [10, 11, 12]]])\n",
        "print(\"3-D:\",arr1[0,1,1],\"\\n\")\n",
        "\n",
        "arr = np.array([[1,2,3,4,5], [6,7,8,9,10]])\n",
        "print('Last element from 2nd dim: ', arr[0, -1])"
      ],
      "metadata": {
        "colab": {
          "base_uri": "https://localhost:8080/"
        },
        "id": "bckYjplFA8sW",
        "outputId": "61b14620-d78f-41f4-9316-d83bf86495e5"
      },
      "execution_count": null,
      "outputs": [
        {
          "output_type": "stream",
          "name": "stdout",
          "text": [
            "21 \n",
            "\n",
            "4th element on 2nd row:  9 \n",
            "\n",
            "3-D: 5 \n",
            "\n",
            "Last element from 2nd dim:  5\n"
          ]
        }
      ]
    },
    {
      "cell_type": "markdown",
      "source": [
        "# **Array Slicing**\n",
        "\n",
        "In Python, slicing involves selecting elements from a specified starting index to an ending index. You use square brackets with the format `[start:end]`, and you can also include a step value like `[start:end:step]` for more precise control over the selection.\n",
        "\n",
        "\n"
      ],
      "metadata": {
        "id": "pEsVdHNBFyyv"
      }
    },
    {
      "cell_type": "code",
      "source": [
        "arr = np.array([1, 2, 3, 4, 5, 6, 7])\n",
        "print(arr[1:5])\n",
        "print(arr[-3:-1])\n",
        "print(arr[1:5:2])\n",
        "print(arr[::2],\"\\n\")\n",
        "\n",
        "\n",
        "print(\"Slicing 2-D Array\")\n",
        "arr = np.array([[1, 2, 3, 4, 5], [6, 7, 8, 9, 10]])\n",
        "print(arr[1, 1:4])\n",
        "print(arr[0:2, 4])\n",
        "print(arr[0:2, 1:4])\n"
      ],
      "metadata": {
        "colab": {
          "base_uri": "https://localhost:8080/"
        },
        "id": "uYDzjYE4Guvb",
        "outputId": "a5c2eaa3-6a69-45dd-d1d3-5fe92dfb313b"
      },
      "execution_count": null,
      "outputs": [
        {
          "output_type": "stream",
          "name": "stdout",
          "text": [
            "[2 3 4 5]\n",
            "[5 6]\n",
            "[2 4]\n",
            "[1 3 5 7] \n",
            "\n",
            "Slicing 2-D Array\n",
            "[7 8 9]\n",
            "[ 5 10]\n",
            "[[2 3 4]\n",
            " [7 8 9]]\n"
          ]
        }
      ]
    },
    {
      "cell_type": "markdown",
      "source": [
        "## **Data Types**\n",
        "\n",
        "Below is a list of all data types in NumPy and the characters used to represent them.\n",
        "\n",
        "- i - integer\n",
        "- b - boolean\n",
        "- u - unsigned integer\n",
        "- f - float\n",
        "- c - complex float\n",
        "- m - timedelta\n",
        "- M - datetime\n",
        "- O - object\n",
        "- S - string\n",
        "- U - unicode string\n",
        "- V - fixed chunk of memory for other type ( void )\n",
        "\n",
        "For i, u, f, S and U we can define size as well.\n",
        "\n",
        "### **Creating Arrays With a Defined Data Type**"
      ],
      "metadata": {
        "id": "J1FyF0LnKbo2"
      }
    },
    {
      "cell_type": "code",
      "source": [
        "arr = np.array([1, 2, 3, 4], dtype='S')\n",
        "print(arr)\n",
        "print(arr.dtype)\n",
        "\n",
        "arr = np.array([1, 2, 3, 4], dtype='i4') #Create an array with data type 4 bytes integer\n",
        "print(arr)\n",
        "print(arr.dtype)\n",
        "\n",
        "arr = np.array(['a', '2', '3'], dtype='i') # Value Error\n",
        "\n"
      ],
      "metadata": {
        "colab": {
          "base_uri": "https://localhost:8080/",
          "height": 308
        },
        "id": "JM_z8uwwMmWm",
        "outputId": "56abed91-d479-4a72-e188-7707b537c277"
      },
      "execution_count": null,
      "outputs": [
        {
          "output_type": "stream",
          "name": "stdout",
          "text": [
            "[b'1' b'2' b'3' b'4']\n",
            "|S1\n",
            "[1 2 3 4]\n",
            "int32\n"
          ]
        },
        {
          "output_type": "error",
          "ename": "ValueError",
          "evalue": "ignored",
          "traceback": [
            "\u001b[0;31m---------------------------------------------------------------------------\u001b[0m",
            "\u001b[0;31mValueError\u001b[0m                                Traceback (most recent call last)",
            "\u001b[0;32m<ipython-input-13-6ee5cdee80b3>\u001b[0m in \u001b[0;36m<cell line: 9>\u001b[0;34m()\u001b[0m\n\u001b[1;32m      7\u001b[0m \u001b[0mprint\u001b[0m\u001b[0;34m(\u001b[0m\u001b[0marr\u001b[0m\u001b[0;34m.\u001b[0m\u001b[0mdtype\u001b[0m\u001b[0;34m)\u001b[0m\u001b[0;34m\u001b[0m\u001b[0;34m\u001b[0m\u001b[0m\n\u001b[1;32m      8\u001b[0m \u001b[0;34m\u001b[0m\u001b[0m\n\u001b[0;32m----> 9\u001b[0;31m \u001b[0marr\u001b[0m \u001b[0;34m=\u001b[0m \u001b[0mnp\u001b[0m\u001b[0;34m.\u001b[0m\u001b[0marray\u001b[0m\u001b[0;34m(\u001b[0m\u001b[0;34m[\u001b[0m\u001b[0;34m'a'\u001b[0m\u001b[0;34m,\u001b[0m \u001b[0;34m'2'\u001b[0m\u001b[0;34m,\u001b[0m \u001b[0;34m'3'\u001b[0m\u001b[0;34m]\u001b[0m\u001b[0;34m,\u001b[0m \u001b[0mdtype\u001b[0m\u001b[0;34m=\u001b[0m\u001b[0;34m'i'\u001b[0m\u001b[0;34m)\u001b[0m \u001b[0;31m# Value Error\u001b[0m\u001b[0;34m\u001b[0m\u001b[0;34m\u001b[0m\u001b[0m\n\u001b[0m\u001b[1;32m     10\u001b[0m \u001b[0;34m\u001b[0m\u001b[0m\n",
            "\u001b[0;31mValueError\u001b[0m: invalid literal for int() with base 10: 'a'"
          ]
        }
      ]
    },
    {
      "cell_type": "markdown",
      "source": [
        "## **Converting Data Type on Existing Arrays**\n",
        "\n",
        "- To change the data type of an array, simply create a copy using the astype() method, specifying the desired type with options like 'f' for float or 'i' for integer."
      ],
      "metadata": {
        "id": "slpFPgqZOxpF"
      }
    },
    {
      "cell_type": "code",
      "source": [
        "arr = np.array([1.1, 2.1, 3.1])\n",
        "newarr = arr.astype('i')\n",
        "print(newarr)\n",
        "print(newarr.dtype)\n",
        "\n",
        "newarr1 = arr.astype(int)\n",
        "print(newarr1)\n",
        "print(newarr1.dtype)\n",
        "\n",
        "arr = np.array([1, 0, 0])\n",
        "newarr = arr.astype(bool)\n",
        "print(newarr)\n",
        "print(newarr.dtype)"
      ],
      "metadata": {
        "colab": {
          "base_uri": "https://localhost:8080/"
        },
        "id": "E5aeNNjfPPU0",
        "outputId": "bd3e8878-887a-404f-e12b-c8381f907ff4"
      },
      "execution_count": null,
      "outputs": [
        {
          "output_type": "stream",
          "name": "stdout",
          "text": [
            "[1 2 3]\n",
            "int32\n",
            "[1 2 3]\n",
            "int64\n",
            "[ True False False]\n",
            "bool\n"
          ]
        }
      ]
    },
    {
      "cell_type": "markdown",
      "source": [
        "## **Array Copy Vs View**\n",
        "- A copy of an array is a completely new array, independent of the original.\n",
        "- Changes to the copy won't affect the original, and vice versa.\n",
        "- In contrast, a view is just a perspective on the original array; changes to the view impact the original, and changes to the original affect the view.\n",
        "\n",
        "### **Check if Array Owns its Data**\n",
        "\n",
        "- In simpler terms, for NumPy arrays, if the 'base' attribute is None, the array owns the data; otherwise, it refers to the original object, indicating that it's a view and doesn't own the data."
      ],
      "metadata": {
        "id": "jQ4upTErQ_g6"
      }
    },
    {
      "cell_type": "code",
      "source": [
        "arr = np.array([1, 2, 3, 4, 5])\n",
        "x = arr.copy()\n",
        "y = arr.view()\n",
        "arr[0] = 42\n",
        "print(arr)\n",
        "print(x)\n",
        "print(y)\n",
        "print(arr)\n",
        "print(\"--------------------------\")\n",
        "arr = np.array([1, 2, 3, 4, 5])\n",
        "x = arr.copy()\n",
        "y = arr.view()\n",
        "print(x.base)\n",
        "print(y.base)"
      ],
      "metadata": {
        "colab": {
          "base_uri": "https://localhost:8080/"
        },
        "id": "zX6hrNm7RqNv",
        "outputId": "19f743fa-b82c-4acc-b585-8c55800fec86"
      },
      "execution_count": null,
      "outputs": [
        {
          "output_type": "stream",
          "name": "stdout",
          "text": [
            "[42  2  3  4  5]\n",
            "[1 2 3 4 5]\n",
            "[42  2  3  4  5]\n",
            "[42  2  3  4  5]\n",
            "--------------------------\n",
            "None\n",
            "[1 2 3 4 5]\n"
          ]
        }
      ]
    },
    {
      "cell_type": "markdown",
      "source": [
        "## **Array Reshaping**\n",
        "- Reshaping an array means altering its form, which is determined by how many elements it has in each dimension. This process allows us to add or remove dimensions and adjust the number of elements in each dimension.\n",
        "\n",
        "### **Reshape Into any Shape?**\n",
        "\n",
        "- As long as the elements required for reshaping are equal in both shapes\n",
        "\n",
        "### **Unknown Dimension**\n",
        "\n",
        "- You are allowed to have one \"unknown\" dimension. Meaning that you do not have to specify an exact number for one of the dimensions in the reshape method. Pass -1 as the value, and NumPy will calculate this number for you.\n",
        "\n",
        "### **Flattening the arrays**\n",
        "- Flattening array means converting a multidimensional array into a 1D array.\n",
        "- We can use `reshape(-1)` to do this."
      ],
      "metadata": {
        "id": "HbaG-_o0WkLG"
      }
    },
    {
      "cell_type": "code",
      "source": [
        "arr = np.array([1, 2, 3, 4, 5, 6, 7, 8, 9, 10, 11, 12])\n",
        "newarr = arr.reshape(4, 3)\n",
        "print(newarr)\n",
        "print(\"-------------------\")\n",
        "newarr = arr.reshape(2, 3, 2)\n",
        "print(newarr)\n",
        "print(\"-------------------\")\n",
        "arr = np.array([1, 2, 3, 4, 5, 6, 7, 8])\n",
        "print(arr.reshape(2, 4).base) #It is a view as it returned original array.\n",
        "print(\"-------------------\")\n",
        "newarr = arr.reshape(2, 2, -1)\n",
        "print(newarr)\n",
        "print(\"-------------------\")\n",
        "arr = np.array([[1, 2, 3], [4, 5, 6]])\n",
        "newarr = arr.reshape(-1)\n",
        "print(newarr)\n",
        "\n",
        "newarr = arr.reshape(3, 3)\n",
        "print(newarr)\n",
        "\n"
      ],
      "metadata": {
        "colab": {
          "base_uri": "https://localhost:8080/",
          "height": 653
        },
        "id": "s2wvssd1XffM",
        "outputId": "2e07e51c-fede-43fe-a65c-2edd40f483e0"
      },
      "execution_count": null,
      "outputs": [
        {
          "output_type": "stream",
          "name": "stdout",
          "text": [
            "[[ 1  2  3]\n",
            " [ 4  5  6]\n",
            " [ 7  8  9]\n",
            " [10 11 12]]\n",
            "-------------------\n",
            "[[[ 1  2]\n",
            "  [ 3  4]\n",
            "  [ 5  6]]\n",
            "\n",
            " [[ 7  8]\n",
            "  [ 9 10]\n",
            "  [11 12]]]\n",
            "-------------------\n",
            "[1 2 3 4 5 6 7 8]\n",
            "-------------------\n",
            "[[[1 2]\n",
            "  [3 4]]\n",
            "\n",
            " [[5 6]\n",
            "  [7 8]]]\n",
            "-------------------\n",
            "[1 2 3 4 5 6]\n"
          ]
        },
        {
          "output_type": "error",
          "ename": "ValueError",
          "evalue": "ignored",
          "traceback": [
            "\u001b[0;31m---------------------------------------------------------------------------\u001b[0m",
            "\u001b[0;31mValueError\u001b[0m                                Traceback (most recent call last)",
            "\u001b[0;32m<ipython-input-16-62af504d561d>\u001b[0m in \u001b[0;36m<cell line: 18>\u001b[0;34m()\u001b[0m\n\u001b[1;32m     16\u001b[0m \u001b[0mprint\u001b[0m\u001b[0;34m(\u001b[0m\u001b[0mnewarr\u001b[0m\u001b[0;34m)\u001b[0m\u001b[0;34m\u001b[0m\u001b[0;34m\u001b[0m\u001b[0m\n\u001b[1;32m     17\u001b[0m \u001b[0;34m\u001b[0m\u001b[0m\n\u001b[0;32m---> 18\u001b[0;31m \u001b[0mnewarr\u001b[0m \u001b[0;34m=\u001b[0m \u001b[0marr\u001b[0m\u001b[0;34m.\u001b[0m\u001b[0mreshape\u001b[0m\u001b[0;34m(\u001b[0m\u001b[0;36m3\u001b[0m\u001b[0;34m,\u001b[0m \u001b[0;36m3\u001b[0m\u001b[0;34m)\u001b[0m\u001b[0;34m\u001b[0m\u001b[0;34m\u001b[0m\u001b[0m\n\u001b[0m\u001b[1;32m     19\u001b[0m \u001b[0mprint\u001b[0m\u001b[0;34m(\u001b[0m\u001b[0mnewarr\u001b[0m\u001b[0;34m)\u001b[0m\u001b[0;34m\u001b[0m\u001b[0;34m\u001b[0m\u001b[0m\n\u001b[1;32m     20\u001b[0m \u001b[0;34m\u001b[0m\u001b[0m\n",
            "\u001b[0;31mValueError\u001b[0m: cannot reshape array of size 6 into shape (3,3)"
          ]
        }
      ]
    },
    {
      "cell_type": "markdown",
      "source": [
        "## **Array Iterating**\n",
        "\n",
        "- Iterating involves going through elements one by one. In numpy, when dealing with multi-dimensional arrays, we can achieve this using a basic Python for loop. If we iterate over a 1-D array, it goes through each element individually.\n",
        "\n",
        "### **Iterating 2-D Arrays**\n",
        "- It will go through all the rows.\n",
        "\n",
        "### **Iterating 3-D Arrays**\n",
        "- It will go through all the 2-D arrays.\n",
        "\n",
        "### **Iterating Arrays Using nditer()**\n",
        "- The `nditer()` function is a helpful tool for various levels of iteration, addressing common issues encountered during the process, making it useful for both basic and advanced tasks.\n",
        "\n",
        "**Iterating on Each Scalar Element**\n",
        "- Looping through individual elements of a high-dimensional array can be challenging using nested \"for\" loops in basic programming, requiring multiple iterations.\n",
        "\n",
        "**Iterating Array With Different Data Types**\n",
        "\n",
        "- In simple terms, when using the `op_dtypes` argument in NumPy's `nditer()` function to change the data type of elements during iteration, a separate space called a buffer is required for the operation. To enable this, the `flags=['buffered']` parameter is passed. This ensures that the data type change occurs without modifying the original array in place.\n",
        "\n",
        "**Iterating With Different Step Size**\n",
        "- We can use filtering and followed by iteration.\n",
        "\n",
        "Example:\n",
        "\n",
        "```\n",
        "arr = np.array([[1, 2, 3, 4], [5, 6, 7, 8]])\n",
        "for x in np.nditer(arr[:, ::2]):\n",
        "  print(x)\n",
        "```\n",
        "\n",
        "\n",
        "Output:\n",
        "```\n",
        "1\n",
        "3\n",
        "5\n",
        "7\n",
        "```\n",
        "**Enumerated Iteration Using ndenumerate()**\n",
        "\n",
        "Enumeration involves listing items in order, and when we need the position of each element during iteration, we can use the ndenumerate() method for such situations.\n",
        "\n"
      ],
      "metadata": {
        "id": "GjYAnuZSmFPi"
      }
    },
    {
      "cell_type": "code",
      "source": [
        "print(\"1-D Array\")\n",
        "arr = np.array([1, 2, 3])\n",
        "for x in arr:\n",
        "  print(x)\n",
        "\n",
        "print(\"\\n\"+\"2-D Array\")\n",
        "arr = np.array([[1, 2, 3], [4, 5, 6]])\n",
        "for x in arr:\n",
        "  print(x)\n",
        "  for y in x:\n",
        "    print(y)\n",
        "\n",
        "print(\"\\n\"+\"3-D Array\")\n",
        "arr = np.array([[[1, 2, 3], [4, 5, 6]], [[7, 8, 9], [10, 11, 12]]])\n",
        "for x in arr:\n",
        "  print(x)\n",
        "  for y in x:\n",
        "    print(y)\n",
        "    for z in y:\n",
        "       print(z)\n",
        "\n",
        "print(\"Using nditer() function\")\n",
        "arr = np.array([[[1, 2], [3, 4]], [[5, 6], [7, 8]]])\n",
        "for x in np.nditer(arr):\n",
        "  print(x)\n",
        "\n",
        "arr = np.array([1, 2, 3])\n",
        "for x in np.nditer(arr, flags=['buffered'], op_dtypes=['S']):\n",
        "  print(x)\n",
        "\n",
        "print(\"--------Enumerate--------\")\n",
        "arr = np.array([1, 2, 3]) # For 1-D array\n",
        "for idx, x in np.ndenumerate(arr):\n",
        "  print(idx, x)\n",
        "\n",
        "arr = np.array([[1, 2, 3], [2, 3, 4]]) # For 2-D array\n",
        "for idx, x in np.ndenumerate(arr):\n",
        "  print(idx, x)\n",
        "\n",
        "arr = np.array([[[1, 2, 3], [2, 3, 4]]]) # For 3-D array\n",
        "for idx, x in np.ndenumerate(arr):\n",
        "  print(idx, x)"
      ],
      "metadata": {
        "colab": {
          "base_uri": "https://localhost:8080/"
        },
        "id": "mLWUNCcqndqu",
        "outputId": "619231e8-8e8c-4bd1-ad63-aec680f0c81b"
      },
      "execution_count": null,
      "outputs": [
        {
          "output_type": "stream",
          "name": "stdout",
          "text": [
            "1-D Array\n",
            "1\n",
            "2\n",
            "3\n",
            "\n",
            "2-D Array\n",
            "[1 2 3]\n",
            "1\n",
            "2\n",
            "3\n",
            "[4 5 6]\n",
            "4\n",
            "5\n",
            "6\n",
            "\n",
            "3-D Array\n",
            "[[1 2 3]\n",
            " [4 5 6]]\n",
            "[1 2 3]\n",
            "1\n",
            "2\n",
            "3\n",
            "[4 5 6]\n",
            "4\n",
            "5\n",
            "6\n",
            "[[ 7  8  9]\n",
            " [10 11 12]]\n",
            "[7 8 9]\n",
            "7\n",
            "8\n",
            "9\n",
            "[10 11 12]\n",
            "10\n",
            "11\n",
            "12\n",
            "Using nditer() function\n",
            "1\n",
            "2\n",
            "3\n",
            "4\n",
            "5\n",
            "6\n",
            "7\n",
            "8\n",
            "b'1'\n",
            "b'2'\n",
            "b'3'\n",
            "--------Enumerate--------\n",
            "(0,) 1\n",
            "(1,) 2\n",
            "(2,) 3\n",
            "(0, 0) 1\n",
            "(0, 1) 2\n",
            "(0, 2) 3\n",
            "(1, 0) 2\n",
            "(1, 1) 3\n",
            "(1, 2) 4\n",
            "(0, 0, 0) 1\n",
            "(0, 0, 1) 2\n",
            "(0, 0, 2) 3\n",
            "(0, 1, 0) 2\n",
            "(0, 1, 1) 3\n",
            "(0, 1, 2) 4\n"
          ]
        }
      ]
    },
    {
      "cell_type": "markdown",
      "source": [
        "# **Array Joining**\n",
        "- Joining in programming is like combining things. In databases, we join tables using a common link, while in NumPy (a Python library), we join arrays by their arrangement.\n",
        "- To join arrays in NumPy, we use the `concatenate()` function, specifying the axis along which we want to join them. If the axis is not specified, it's assumed to be 0.\n",
        "\n",
        "### **Joining Arrays Using Stack Functions**\n",
        "- Stacking is like combining arrays, but with stacking, it adds a new layer.\n",
        "- For 1-D arrays, stacking is similar to putting them on top of each other along a new direction.\n",
        "- You use the `stack()` method and specify the axis, with the default being 0 if not specified."
      ],
      "metadata": {
        "id": "suA4MhCpgMQ-"
      }
    },
    {
      "cell_type": "code",
      "source": [
        "# Joining 1-D Arrays\n",
        "arr1 = np.array([1, 2, 3])\n",
        "arr2 = np.array([4, 5, 6])\n",
        "arr = np.concatenate((arr1, arr2))\n",
        "print(arr)\n",
        "\n",
        "# Joining 2-D Arrays\n",
        "arr1 = np.array([[1, 2, 3], [3, 5, 8]])\n",
        "arr2 = np.array([[4, 5, 6], [2, 2, 2]])\n",
        "arr = np.concatenate((arr1, arr2), axis = 1)\n",
        "print(arr)\n",
        "\n",
        "# Joining 1-D arrays using Stack() function\n",
        "arr1 = np.array([1, 2, 3])\n",
        "arr2 = np.array([4, 5, 6])\n",
        "arr = np.stack((arr1, arr2), axis = 1)\n",
        "print(arr)\n",
        "\n",
        "# Joining 2-D Arrays using stack() function\n",
        "arr1 = np.array([[1, 2, 3], [3, 5, 8]])\n",
        "arr2 = np.array([[4, 5, 6], [2, 2, 2]])\n",
        "arr = np.concatenate((arr1, arr2), axis = 1)\n",
        "print(arr)\n",
        "print(\"----------\")\n",
        "# \"We can use hstack() to stack along rows\"\n",
        "arr1 = np.array([1, 2, 3])\n",
        "arr2 = np.array([4, 5, 6])\n",
        "arr = np.hstack((arr1, arr2))\n",
        "print(arr)\n",
        "\n",
        "arr1 = np.array([[1, 2, 3], [3, 5, 8]])\n",
        "arr2 = np.array([[4, 5, 6], [2, 2, 2]])\n",
        "arr = np.hstack((arr1, arr2))\n",
        "print(arr)\n",
        "print(\"----------\")\n",
        "\n",
        "# \"We can use vstack()  to stack along columns\"\n",
        "arr1 = np.array([1, 2, 3])\n",
        "arr2 = np.array([4, 5, 6])\n",
        "arr = np.vstack((arr1, arr2))\n",
        "print(arr)\n",
        "arr1 = np.array([[1, 2, 3], [3, 5, 8]])\n",
        "arr2 = np.array([[4, 5, 6], [2, 2, 2]])\n",
        "arr = np.vstack((arr1, arr2))\n",
        "print(arr)\n",
        "\n",
        "print(\"----------\")\n",
        "\n",
        "# \"We can use dstack() to stack along height, which is the same as depth\"\n",
        "arr1 = np.array([1, 2, 3])\n",
        "arr2 = np.array([4, 5, 6])\n",
        "arr = np.dstack((arr1, arr2))\n",
        "print(arr)\n",
        "\n",
        "arr1 = np.array([[1, 2, 3], [3, 5, 8]])\n",
        "arr2 = np.array([[4, 5, 6], [2, 2, 2]])\n",
        "arr = np.dstack((arr1, arr2))\n",
        "print(arr)"
      ],
      "metadata": {
        "colab": {
          "base_uri": "https://localhost:8080/"
        },
        "id": "Sb-ZHuCag02Y",
        "outputId": "2dc1caa0-e85b-473f-8dd9-fff1e609f1b4"
      },
      "execution_count": null,
      "outputs": [
        {
          "output_type": "stream",
          "name": "stdout",
          "text": [
            "[1 2 3 4 5 6]\n",
            "[[1 2 3 4 5 6]\n",
            " [3 5 8 2 2 2]]\n",
            "[[1 4]\n",
            " [2 5]\n",
            " [3 6]]\n",
            "[[1 2 3 4 5 6]\n",
            " [3 5 8 2 2 2]]\n",
            "----------\n",
            "[1 2 3 4 5 6]\n",
            "[[1 2 3 4 5 6]\n",
            " [3 5 8 2 2 2]]\n",
            "----------\n",
            "[[1 2 3]\n",
            " [4 5 6]]\n",
            "[[1 2 3]\n",
            " [3 5 8]\n",
            " [4 5 6]\n",
            " [2 2 2]]\n",
            "----------\n",
            "[[[1 4]\n",
            "  [2 5]\n",
            "  [3 6]]]\n",
            "[[[1 4]\n",
            "  [2 5]\n",
            "  [3 6]]\n",
            "\n",
            " [[3 2]\n",
            "  [5 2]\n",
            "  [8 2]]]\n"
          ]
        }
      ]
    },
    {
      "cell_type": "markdown",
      "source": [
        "# **Array Splitting**\n",
        "\n",
        "- Splitting an array into multiple arrays is the opposite of combining multiple arrays into one. When we want to split an array, we use `array_split()` and provide the array along with the desired number of splits.\n",
        "\n",
        "**Note:**\n",
        "- If the array has less elements than required, it will adjust from the end accordingly.\n",
        "- `Array_split()` adjusts the elements when there are fewer elements in the source array for splitting, unlike `split()` which would fail in such cases.\n",
        "\n",
        "The `array_split()` method divides an array into multiple parts, and the result is an array containing each split as a separate array. You can then access these individual arrays in the result just like you would with any array element.\n",
        "\n",
        "\n"
      ],
      "metadata": {
        "id": "Jq1C1QmKlKAV"
      }
    },
    {
      "cell_type": "code",
      "source": [
        "# Splitting 1-D arrays\n",
        "arr = np.array([1, 2, 3, 4, 5, 6])\n",
        "newarr = np.array_split(arr, 2)\n",
        "print(newarr)\n",
        "\n",
        "arr = np.array([1, 2, 3, 4, 5, 6])\n",
        "newarr = np.array_split(arr, 4)\n",
        "print(newarr)\n",
        "\n",
        "arr = np.array([1, 2, 3, 4, 5, 6])\n",
        "newarr = np.array_split(arr, 5)\n",
        "for x in newarr:\n",
        " print(x)\n",
        "print(\"--------------------------------------\")\n",
        "# Splitting 2-D arrays\n",
        "arr = np.array([[1, 2, 3, 4], [5, 6, 7, 8], [9, 10, 11, 12]])\n",
        "newarr = np.array_split(arr, 2)\n",
        "for x in newarr:\n",
        "  print(x)\n",
        "\n",
        "arr = np.array([[1, 2, 3, 4], [5, 6, 7, 8], [9, 10, 11, 12]])\n",
        "newarr = np.array_split(arr, 2, axis = 1)\n",
        "for x in newarr:\n",
        "  print(x)\n",
        "\n",
        "# \"We can use hsplit(), vsplit(), and dsplit() opposites of hstack(), vstack() and dstack()\"\"\n",
        "\n",
        "arr = np.array([[1, 2, 3, 4], [5, 6, 7, 8], [9, 10, 11, 12]])\n",
        "newarr = np.hsplit(arr, 4)\n",
        "for x in newarr:\n",
        "  print(x)"
      ],
      "metadata": {
        "colab": {
          "base_uri": "https://localhost:8080/"
        },
        "id": "-xojm9DCmE_L",
        "outputId": "8267a45b-5311-42d9-a2b2-54dc2da3c4b2"
      },
      "execution_count": null,
      "outputs": [
        {
          "output_type": "stream",
          "name": "stdout",
          "text": [
            "[array([1, 2, 3]), array([4, 5, 6])]\n",
            "[array([1, 2]), array([3, 4]), array([5]), array([6])]\n",
            "[1 2]\n",
            "[3]\n",
            "[4]\n",
            "[5]\n",
            "[6]\n",
            "--------------------------------------\n",
            "[[1 2 3 4]\n",
            " [5 6 7 8]]\n",
            "[[ 9 10 11 12]]\n",
            "[[ 1  2]\n",
            " [ 5  6]\n",
            " [ 9 10]]\n",
            "[[ 3  4]\n",
            " [ 7  8]\n",
            " [11 12]]\n",
            "[[1]\n",
            " [5]\n",
            " [9]]\n",
            "[[ 2]\n",
            " [ 6]\n",
            " [10]]\n",
            "[[ 3]\n",
            " [ 7]\n",
            " [11]]\n",
            "[[ 4]\n",
            " [ 8]\n",
            " [12]]\n"
          ]
        }
      ]
    },
    {
      "cell_type": "markdown",
      "source": [
        "# **Array Searching**\n",
        "\n",
        "- You can find specific values in an array and get their indexes using the `where()` method.\n",
        "\n",
        "## **Sorted Search**\n",
        "\n",
        "- The `searchsorted()` method finds where a value would fit in a sorted list and gives the index where it should be inserted."
      ],
      "metadata": {
        "id": "ZdTrPh_tseN5"
      }
    },
    {
      "cell_type": "code",
      "source": [
        "arr = np.array([1, 2, 3, 4, 5, 4, 4])\n",
        "x = np.where(arr == 4)\n",
        "y = np.where(arr%2 == 0)\n",
        "z = np.where(arr%2 != 0)\n",
        "print(x)\n",
        "print(y)\n",
        "print(z)\n",
        "\n",
        "arr = np.array([6, 7, 8, 9])\n",
        "x = np.searchsorted(arr, 7)\n",
        "print(x)\n",
        "\n",
        "arr = np.array([6, 7, 8, 9])\n",
        "x = np.searchsorted(arr, 7, side = \"right\")\n",
        "print(x)\n",
        "\n",
        "arr = np.array([1, 3, 5, 7])\n",
        "x = np.searchsorted(arr, [2, 6, 6])  #To search for more than one value, use an array with the specified values\n",
        "print(x) #To maintain the order"
      ],
      "metadata": {
        "colab": {
          "base_uri": "https://localhost:8080/"
        },
        "id": "xR36G-TstCE7",
        "outputId": "86c7f743-d0d6-4379-d49f-e271d466b9fe"
      },
      "execution_count": null,
      "outputs": [
        {
          "output_type": "stream",
          "name": "stdout",
          "text": [
            "(array([3, 5, 6]),)\n",
            "(array([1, 3, 5, 6]),)\n",
            "(array([0, 2, 4]),)\n",
            "1\n",
            "2\n",
            "[1 3 3]\n"
          ]
        }
      ]
    },
    {
      "cell_type": "markdown",
      "source": [
        "# **Arrays Sorting**\n",
        "- Sorting is the arrangement of elements in a specific order, such as numerical or alphabetical, either from lowest to highest or vice versa. In NumPy, the `sort()` function is used to organize the elements in an array."
      ],
      "metadata": {
        "id": "Bo3PzoD-vUzC"
      }
    },
    {
      "cell_type": "code",
      "source": [
        "# Sorting 1-D array\n",
        "arr = np.array([3, 2, 0, 1])\n",
        "print(np.sort(arr))\n",
        "\n",
        "arr = np.array(['Moni', 'Laxmi', 'Niki', 'Kishore'])\n",
        "print(np.sort(arr))\n",
        "\n",
        "arr = np.array([True, False, True])\n",
        "print(np.sort(arr))\n",
        "\n",
        "#Sorting 2-D Arrays\n",
        "arr = np.array([[1, 5, 9, 1, 0], [2, 6, 4, 8, 7]])\n",
        "print(np.sort(arr))"
      ],
      "metadata": {
        "colab": {
          "base_uri": "https://localhost:8080/"
        },
        "id": "6tQZ_6dBvTbC",
        "outputId": "313e48c4-563f-45c5-b303-af5da044145e"
      },
      "execution_count": null,
      "outputs": [
        {
          "output_type": "stream",
          "name": "stdout",
          "text": [
            "[0 1 2 3]\n",
            "['Kishore' 'Laxmi' 'Moni' 'Niki']\n",
            "[False  True  True]\n",
            "[[0 1 1 5 9]\n",
            " [2 4 6 7 8]]\n"
          ]
        }
      ]
    },
    {
      "cell_type": "markdown",
      "source": [
        "# **Array Filtering**\n",
        "- Filtering in NumPy involves creating a new array by picking elements from an existing array based on a list of True/False values.\n",
        "-  If the value is True at a specific index, the element is included in the new array; if it's False, the element is excluded.\n",
        "\n",
        "**To Create Filtered Array Directly From Array**\n",
        "- You can replace the iterable variable in the condition with the array directly, and it will function as expected."
      ],
      "metadata": {
        "id": "Xsq8OdmBwmru"
      }
    },
    {
      "cell_type": "code",
      "source": [
        "arr = np.array([41, 42, 43, 44])\n",
        "list = [True, False, True, False]\n",
        "newarr = arr[list]\n",
        "print(newarr)\n",
        "\n",
        "# Create a filter array that will return only values higher than 42\n",
        "arr = np.array([41, 42, 43, 44])\n",
        "l = []\n",
        "\n",
        "for x in arr:\n",
        "  if x > 42:\n",
        "    l.append(True)\n",
        "  else:\n",
        "    l.append(False)\n",
        "filtered_array = arr[l]\n",
        "print(filtered_array)\n",
        "\n",
        "\n",
        "# Create a filter array that will return only even elements from the original array\n",
        "arr = np.array([1, 2, 3, 4, 5, 6, 7])\n",
        "\n",
        "l = []\n",
        "\n",
        "for x in arr:\n",
        "  if x%2 == 0:\n",
        "    l.append(True)\n",
        "  else:\n",
        "    l.append(False)\n",
        "filtered_array = arr[l]\n",
        "print(filtered_array)\n",
        "\n",
        "# Best Ways to do\n",
        "arr = np.array([41, 42, 43, 44])\n",
        "l = arr > 42\n",
        "filtered_array = arr[l]\n",
        "print(filtered_array)\n",
        "\n",
        "arr = np.array([1, 2, 3, 4, 5, 6, 7])\n",
        "l = arr%2 == 0\n",
        "filtered_array = arr[l]\n",
        "print(filtered_array)"
      ],
      "metadata": {
        "colab": {
          "base_uri": "https://localhost:8080/"
        },
        "id": "YjHeEyR7xpLL",
        "outputId": "6ed37bb2-86b2-4064-ec1f-ff102742851b"
      },
      "execution_count": null,
      "outputs": [
        {
          "output_type": "stream",
          "name": "stdout",
          "text": [
            "[41 43]\n",
            "[43 44]\n",
            "[2 4 6]\n",
            "[43 44]\n",
            "[2 4 6]\n"
          ]
        }
      ]
    }
  ]
}